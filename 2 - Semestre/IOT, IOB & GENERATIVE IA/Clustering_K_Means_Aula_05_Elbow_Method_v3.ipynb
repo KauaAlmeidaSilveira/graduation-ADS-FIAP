{
  "nbformat": 4,
  "nbformat_minor": 0,
  "metadata": {
    "colab": {
      "provenance": []
    },
    "kernelspec": {
      "name": "python3",
      "display_name": "Python 3"
    },
    "language_info": {
      "name": "python"
    }
  },
  "cells": [
    {
      "cell_type": "markdown",
      "source": [
        "Aprendizado Não Supervisionado - CLUSTERING / AGRUPAMENTO"
      ],
      "metadata": {
        "id": "tIFjyumE8sVf"
      }
    },
    {
      "cell_type": "markdown",
      "source": [
        "O K-Means é um algoritmo de aprendizado de máquina não supervisionado que agrupa dados em um número k de clusters. O número de clusters é definido pelo usuário e o algoritmo tentará agrupar os dados mesmo que esse número não seja o ideal para o caso específico. Portanto, temos que criar uma técnica que nos ajude a decidir quantos clusters devemos usar para o modelo K-Means.\n",
        "\n"
      ],
      "metadata": {
        "id": "AchaZ5L08lDp"
      }
    },
    {
      "cell_type": "code",
      "execution_count": null,
      "metadata": {
        "id": "XmX0gnjy7XxU"
      },
      "outputs": [],
      "source": [
        "# Importando os pacotes:\n",
        "import pandas as pd\n",
        "import numpy as np\n",
        "import matplotlib.pyplot as plt\n",
        "\n",
        "# Importando o algoritmo K-Means:\n",
        "from sklearn.cluster import KMeans\n",
        "\n",
        "# Métrica de avaliação para modelos de clustering:\n",
        "from sklearn.metrics import silhouette_score\n",
        "\n",
        "# Vamos utilizar o dataset Iris dentro do pacote datasets do sklearn:\n",
        "from sklearn import datasets\n",
        "\n",
        "# O pacote warnings inibe a visualização de avisos nos outputs do Colab.\n",
        "import warnings\n",
        "warnings.filterwarnings('ignore')"
      ]
    },
    {
      "cell_type": "markdown",
      "source": [
        "Para exemplificar, utilizaremos o \"lendário\" dataset \"IRIS\".\n",
        "\n",
        "https://en.wikipedia.org/wiki/Iris_flower_data_set\n",
        "\n",
        "https://www.kaggle.com/datasets/arshid/iris-flower-dataset\n",
        "\n",
        "\n",
        "O conjunto de dados da flor Iris é um conjunto de dados multivariados introduzido pelo estatístico e biólogo britânico Ronald Fisher em seu artigo de 1936.\n",
        "\n",
        " Também chamado de conjunto de dados \"Iris de Anderson\" pois Edgar Anderson coletou os dados para quantificar a variação morfológica das flores Iris de três espécies relacionadas.\n",
        "\n",
        " O conjunto de dados consiste em 50 amostras de cada uma das três espécies de Iris (Iris Setosa, Iris Virginica e Iris Versicolor).\n",
        "\n",
        " Foram medidas quatro características de cada amostra: o comprimento e a largura das sépalas e pétalas, em centímetros.\n",
        "\n",
        " Exemplo de Classificação usando o Iris Dataset, no canal Programação Dinâmica:\n",
        " https://www.youtube.com/watch?v=DeAuVrhKw58\n"
      ],
      "metadata": {
        "id": "eaX-PSvq-e7P"
      }
    },
    {
      "cell_type": "code",
      "source": [
        "# Importando a base de dados\n",
        "# Criamos a variável iris para receber o conjunto de dados\n",
        "iris = datasets.load_iris()"
      ],
      "metadata": {
        "id": "kRudF6zi9NN_"
      },
      "execution_count": null,
      "outputs": []
    },
    {
      "cell_type": "code",
      "source": [
        "iris"
      ],
      "metadata": {
        "id": "uBUHzeOHiKs4"
      },
      "execution_count": null,
      "outputs": []
    },
    {
      "cell_type": "code",
      "source": [
        "type(iris)"
      ],
      "metadata": {
        "id": "hwDtPjDENLpo"
      },
      "execution_count": null,
      "outputs": []
    },
    {
      "cell_type": "code",
      "source": [
        "# Convertendo a variável iris em um dicionário Python\n",
        "iris = dict(iris)"
      ],
      "metadata": {
        "id": "SeGXRw9iQzaU"
      },
      "execution_count": null,
      "outputs": []
    },
    {
      "cell_type": "code",
      "source": [
        "iris"
      ],
      "metadata": {
        "id": "nMlZVQ3eRLNZ"
      },
      "execution_count": null,
      "outputs": []
    },
    {
      "cell_type": "code",
      "source": [
        "type(iris)"
      ],
      "metadata": {
        "id": "j3GuA9vORPCy"
      },
      "execution_count": null,
      "outputs": []
    },
    {
      "cell_type": "code",
      "source": [
        "# Visualizando os atributos de entrada (features) que correspondem às dimensões das pétalas e sépalas das flores:\n",
        "iris['data']"
      ],
      "metadata": {
        "id": "Cukdvs7LRSXG"
      },
      "execution_count": null,
      "outputs": []
    },
    {
      "cell_type": "code",
      "source": [
        "# Visualizando a coluna target que corresponde às classes das flores:\n",
        "# Utilizaremos essa coluna no final do exercício para comparar com os clusters criados pelo algoritmo K-Means:\n",
        "iris['target']"
      ],
      "metadata": {
        "id": "3AU5jHTwRWw6"
      },
      "execution_count": null,
      "outputs": []
    },
    {
      "cell_type": "code",
      "source": [
        "# Criamos o dataframe df apenas com as colunas referentes às features:\n",
        "df = pd.DataFrame(iris['data'])\n",
        "df"
      ],
      "metadata": {
        "id": "D-9T5wo47gJt"
      },
      "execution_count": null,
      "outputs": []
    },
    {
      "cell_type": "markdown",
      "source": [
        "**Método Elbow**\n",
        "\n",
        "O método Elbow é uma técnica muito popular e a ideia é executar o agrupamento k-means para um intervalo de clusters k (digamos de 1 a 10) e para cada valor, estamos calculando a soma das distâncias ao quadrado de cada ponto até seu centro atribuído (distorções)."
      ],
      "metadata": {
        "id": "JZwM26QG96w2"
      }
    },
    {
      "cell_type": "code",
      "source": [
        "distorcoes = []\n",
        "\n",
        "K = range(1,10) # Adotando 10 clusters.\n",
        "for k in K:\n",
        "    modelo01 = KMeans(n_clusters=k)\n",
        "    modelo01.fit(df)    # Treinamos o modelo com o algoritmo K-Means por 10 vezes\n",
        "    distorcoes.append(modelo01.inertia_)\n",
        "\n",
        "# Observação:\n",
        "# O método \"inertia_\" permite calcular as distorções, ou seja,\n",
        "# Soma das distâncias ao quadrado das amostras até o centro do cluster (centroides) mais próximo,\n",
        "# ponderadas pelos pesos das amostras, se fornecidas"
      ],
      "metadata": {
        "id": "qe_JD4Gp78N0"
      },
      "execution_count": null,
      "outputs": []
    },
    {
      "cell_type": "code",
      "source": [
        "distorcoes"
      ],
      "metadata": {
        "id": "6VEx0pY0C0V9"
      },
      "execution_count": null,
      "outputs": []
    },
    {
      "cell_type": "markdown",
      "source": [
        "Observando a Curva de Elbow"
      ],
      "metadata": {
        "id": "gfvLdnBBAYdS"
      }
    },
    {
      "cell_type": "code",
      "source": [
        "plt.figure(figsize=(10,5))\n",
        "plt.plot(K, distorcoes, '-bx')\n",
        "\n",
        "# Define os labels do eixos do gráfico:\n",
        "plt.xlabel('K: número de clusters')\n",
        "plt.ylabel('Distorção')\n",
        "\n",
        "# Define um título para o gráfico:\n",
        "plt.title('Método Elbow aplicado para o valor otimizado de k')\n",
        "\n",
        "# Mostra o gráfico:\n",
        "plt.show()"
      ],
      "metadata": {
        "id": "co0Ox-BC8All"
      },
      "execution_count": null,
      "outputs": []
    },
    {
      "cell_type": "code",
      "source": [
        "# O número de clusters (grupos) foi adotado com base na curva acima.\n",
        "modelo_KMeans = KMeans(n_clusters=3)\n",
        "modelo_KMeans.fit(df)"
      ],
      "metadata": {
        "id": "Mn1gcoBO8CjO"
      },
      "execution_count": null,
      "outputs": []
    },
    {
      "cell_type": "code",
      "source": [
        "# A partir do modelo treinado, fazemos as predições dos clusters e criamos uma coluna chamada \"k_means\"\n",
        "df['clusters'] = modelo_KMeans.predict(df)"
      ],
      "metadata": {
        "id": "m_2649SoBb_m"
      },
      "execution_count": null,
      "outputs": []
    },
    {
      "cell_type": "code",
      "source": [
        "df"
      ],
      "metadata": {
        "id": "NBZSiZ1bCFuB"
      },
      "execution_count": null,
      "outputs": []
    },
    {
      "cell_type": "code",
      "source": [
        "# Adicionando a coluna \"target\" com os dados originais do dataset, para podermos comparar...\n",
        "df['target'] = iris['target']"
      ],
      "metadata": {
        "id": "JyMw3wP8CJof"
      },
      "execution_count": null,
      "outputs": []
    },
    {
      "cell_type": "code",
      "source": [
        "df.head()"
      ],
      "metadata": {
        "id": "MJuJljXPCOEX"
      },
      "execution_count": null,
      "outputs": []
    },
    {
      "cell_type": "code",
      "source": [
        "# Comparando graficamente os dados originais e a coluna de clusters criada pelo algoritmo K-Means\n",
        "fig, axes = plt.subplots(1, 2, figsize=(12,5))\n",
        "\n",
        "axes[0].scatter(df[0], df[1], c=df['target'], cmap=plt.cm.Set1)\n",
        "axes[1].scatter(df[0], df[1], c=df['clusters'], cmap=plt.cm.Set2)\n",
        "axes[0].set_title('Coluna \"target\" original', fontsize=13)\n",
        "axes[1].set_title('Clusters criados pelo algoritmo K_Means', fontsize=13)"
      ],
      "metadata": {
        "id": "yey_stZf8K5q"
      },
      "execution_count": null,
      "outputs": []
    },
    {
      "cell_type": "markdown",
      "source": [
        "Avaliação do modelo de Clustering\n",
        "\n",
        "Silhouette Score é uma ferramenta para avaliar a adequação dos resultados de agrupamento, fornecendo uma medida quantitativa de quão bem definidos e distintos são os agrupamentos.\n",
        "\n",
        "Fontes de pesquisa:\n",
        "\n",
        "https://www.educative.io/answers/what-is-silhouette-score\n",
        "\n",
        "https://en.wikipedia.org/wiki/Silhouette_(clustering)\n",
        "\n"
      ],
      "metadata": {
        "id": "PzXFgR8jT9_K"
      }
    },
    {
      "cell_type": "code",
      "source": [
        "silhouette = silhouette_score(df, df['clusters'])\n",
        "print(f\"Silhouette score: {silhouette:.4f}\")"
      ],
      "metadata": {
        "id": "52sYGsWCTVdN"
      },
      "execution_count": null,
      "outputs": []
    },
    {
      "cell_type": "markdown",
      "source": [
        "**DESAFIO:**\n",
        "\n",
        "Utilizando o dataset \"Mall Customers\", disponível em https://www.kaggle.com/datasets/kandij/mall-customers, agrupar os clientes com base nas características de receita anual (Annual Income (k$)) e pontuação de gastos (Spending Score).\n",
        "\n",
        "- Determine o valor ideal de k, com base no método Elbow.\n",
        "- Treine o modelo usando o algoritmo K-Means e avalie a qualidade dos clusters, utilizando a métrica Silhoutte Score."
      ],
      "metadata": {
        "id": "PQqSQUWxW3o4"
      }
    },
    {
      "cell_type": "code",
      "source": [],
      "metadata": {
        "id": "Y-Ur9oGRW3Go"
      },
      "execution_count": null,
      "outputs": []
    },
    {
      "cell_type": "code",
      "source": [],
      "metadata": {
        "id": "FIsjL7rn0JC6"
      },
      "execution_count": null,
      "outputs": []
    },
    {
      "cell_type": "code",
      "source": [],
      "metadata": {
        "id": "fwP5mGNi0I7S"
      },
      "execution_count": null,
      "outputs": []
    },
    {
      "cell_type": "code",
      "source": [],
      "metadata": {
        "id": "rncI1Gvg0Ixl"
      },
      "execution_count": null,
      "outputs": []
    },
    {
      "cell_type": "markdown",
      "source": [
        "Referências:\n",
        "\n",
        "https://scikit-learn.org/stable/modules/generated/sklearn.cluster.KMeans.html\n",
        "\n",
        "https://www.youtube.com/watch?v=FqIGui0rwh4 (How to Choose the Number of Clusters)\n",
        "\n",
        "https://www.analyticsvidhya.com/blog/2021/01/in-depth-intuition-of-k-means-clustering-algorithm-in-machine-learning/\n",
        "\n",
        "https://medium.com/pizzadedados/kmeans-e-metodo-do-cotovelo-94ded9fdf3a9\n",
        "\n",
        "https://www.kaggle.com/code/eriveltonguedes/7-clusteriza-o-k-means-erivelton\n"
      ],
      "metadata": {
        "id": "Y3GnWTaU0JzV"
      }
    }
  ]
}